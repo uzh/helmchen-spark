{
 "cells": [
  {
   "cell_type": "markdown",
   "metadata": {},
   "source": [
    "## Code examples for storing notebooks and data in a git repository"
   ]
  },
  {
   "cell_type": "code",
   "execution_count": 11,
   "metadata": {
    "collapsed": true
   },
   "outputs": [],
   "source": [
    "import os\n",
    "import getpass\n",
    "import subprocess\n",
    "\n",
    "from __future__ import print_function"
   ]
  },
  {
   "cell_type": "markdown",
   "metadata": {},
   "source": [
    "### Repository information and account credentials"
   ]
  },
  {
   "cell_type": "code",
   "execution_count": 12,
   "metadata": {
    "collapsed": false
   },
   "outputs": [
    {
     "name": "stdout",
     "output_type": "stream",
     "text": [
      "········\n"
     ]
    }
   ],
   "source": [
    "# Github repository\n",
    "github_repo = \"github.com/hluetck/jupyter_notebooks.git\"\n",
    "# Local path for the repository\n",
    "repo_path = \"/Users/Henry/Data/temp/test/jupyter_notebooks\" \n",
    "# Github account credentials\n",
    "github_user = 'hluetck'\n",
    "github_password = getpass.getpass()"
   ]
  },
  {
   "cell_type": "markdown",
   "metadata": {},
   "source": [
    "### Clone an exisiting repository"
   ]
  },
  {
   "cell_type": "code",
   "execution_count": 16,
   "metadata": {
    "collapsed": false
   },
   "outputs": [
    {
     "name": "stdout",
     "output_type": "stream",
     "text": [
      "Directory /Users/Henry/Data/temp/test/jupyter_notebooks exists. Please delete it before cloning!\n"
     ]
    }
   ],
   "source": [
    "# check if repo_path exists already\n",
    "if os.path.isdir(repo_path):\n",
    "    print(\"Directory %s exists. Please delete it before cloning!\" % (repo_path))\n",
    "# build command for cloning\n",
    "clone_command = \"git clone https://\" + github_user + \":\" + github_password + \"@\" + github_repo + \" \" + repo_path"
   ]
  },
  {
   "cell_type": "code",
   "execution_count": 14,
   "metadata": {
    "collapsed": false
   },
   "outputs": [
    {
     "name": "stdout",
     "output_type": "stream",
     "text": [
      "Successfully cloned into /Users/Henry/Data/temp/test/jupyter_notebooks\n"
     ]
    }
   ],
   "source": [
    "# clone repository\n",
    "return_code = subprocess.call([clone_command], shell=True)\n",
    "if not return_code:\n",
    "    print(\"Successfully cloned into %s\" % (repo_path))\n",
    "else:\n",
    "    print(\"Cloning failed. Maybe check user name and password?\")"
   ]
  },
  {
   "cell_type": "markdown",
   "metadata": {},
   "source": [
    "### Commit changes and push to Github"
   ]
  },
  {
   "cell_type": "code",
   "execution_count": 17,
   "metadata": {
    "collapsed": false
   },
   "outputs": [
    {
     "name": "stdout",
     "output_type": "stream",
     "text": [
      "# On branch master\n",
      "nothing to commit, working directory clean\n",
      "\n"
     ]
    }
   ],
   "source": [
    "# get current working directory\n",
    "cwd = os.getcwd()\n",
    "# change to the repository folder\n",
    "os.chdir(repo_path)\n",
    "# print git status for the local repository\n",
    "status_command = \"git status\"\n",
    "output = subprocess.check_output(status_command, shell=True)\n",
    "print(output)\n",
    "# change back to previous working directory\n",
    "os.chdir(cwd)"
   ]
  },
  {
   "cell_type": "markdown",
   "metadata": {},
   "source": [
    "### Pull changes from Github"
   ]
  },
  {
   "cell_type": "code",
   "execution_count": null,
   "metadata": {
    "collapsed": true
   },
   "outputs": [],
   "source": []
  }
 ],
 "metadata": {
  "kernelspec": {
   "display_name": "Python 2",
   "language": "python",
   "name": "python2"
  },
  "language_info": {
   "codemirror_mode": {
    "name": "ipython",
    "version": 2
   },
   "file_extension": ".py",
   "mimetype": "text/x-python",
   "name": "python",
   "nbconvert_exporter": "python",
   "pygments_lexer": "ipython2",
   "version": "2.7.11"
  }
 },
 "nbformat": 4,
 "nbformat_minor": 0
}
